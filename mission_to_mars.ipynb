{
 "cells": [
  {
   "cell_type": "code",
   "execution_count": 1,
   "metadata": {},
   "outputs": [],
   "source": [
    "from bs4 import BeautifulSoup as bs\n",
    "import requests\n",
    "import pandas as pd\n",
    "from splinter import Browser\n",
    "import time \n",
    "from pprint import pprint"
   ]
  },
  {
   "cell_type": "code",
   "execution_count": 10,
   "metadata": {},
   "outputs": [],
   "source": [
    "news = 'https://mars.nasa.gov/news/'"
   ]
  },
  {
   "cell_type": "code",
   "execution_count": 11,
   "metadata": {},
   "outputs": [],
   "source": [
    "response = requests.get(news)"
   ]
  },
  {
   "cell_type": "code",
   "execution_count": 12,
   "metadata": {},
   "outputs": [],
   "source": [
    "soup = bs(response.text, 'html.parser')"
   ]
  },
  {
   "cell_type": "code",
   "execution_count": 13,
   "metadata": {},
   "outputs": [],
   "source": [
    "mars_dict = {}"
   ]
  },
  {
   "cell_type": "code",
   "execution_count": 14,
   "metadata": {},
   "outputs": [],
   "source": [
    "#print(soup.prettify())"
   ]
  },
  {
   "cell_type": "code",
   "execution_count": 15,
   "metadata": {},
   "outputs": [],
   "source": [
    "title = soup.find('div', class_=\"content_title\")\n",
    "news_title = title.a.text\n",
    "#print (news_title)"
   ]
  },
  {
   "cell_type": "code",
   "execution_count": 16,
   "metadata": {},
   "outputs": [],
   "source": [
    "summary =soup.find('div', class_=\"rollover_description_inner\")\n",
    "news_sum = summary.text\n",
    "#print(news_sum)"
   ]
  },
  {
   "cell_type": "code",
   "execution_count": 17,
   "metadata": {},
   "outputs": [],
   "source": [
    "mars_dict[\"News_title\"] = news_title\n",
    "mars_dict[\"News_Summary\"] = news_sum"
   ]
  },
  {
   "cell_type": "code",
   "execution_count": 2,
   "metadata": {},
   "outputs": [],
   "source": [
    "executable_path = {'executable_path': 'chromedriver.exe'}\n",
    "browser = Browser('chrome', **executable_path, headless=False)"
   ]
  },
  {
   "cell_type": "code",
   "execution_count": 3,
   "metadata": {},
   "outputs": [],
   "source": [
    "url = 'https://www.jpl.nasa.gov/spaceimages/?search=&category=Mars'\n",
    "browser.visit(url)"
   ]
  },
  {
   "cell_type": "code",
   "execution_count": 4,
   "metadata": {},
   "outputs": [],
   "source": [
    "full_image = browser.find_by_id('full_image')\n",
    "\n",
    "full_image.click()"
   ]
  },
  {
   "cell_type": "code",
   "execution_count": 5,
   "metadata": {},
   "outputs": [],
   "source": [
    "m_info = browser.find_link_by_partial_text('more info')\n",
    "m_info\n",
    "m_info.click()"
   ]
  },
  {
   "cell_type": "code",
   "execution_count": 6,
   "metadata": {},
   "outputs": [],
   "source": [
    "new_html = browser.html\n",
    "new_soup = bs(new_html, 'html.parser')"
   ]
  },
  {
   "cell_type": "code",
   "execution_count": 7,
   "metadata": {},
   "outputs": [],
   "source": [
    "#pprint(new_soup.prettify())"
   ]
  },
  {
   "cell_type": "code",
   "execution_count": 8,
   "metadata": {},
   "outputs": [],
   "source": [
    "full_image =new_soup.select_one('figure.lede a img').get(\"src\")\n",
    "jpl_url = 'https://www.jpl.nasa.gov'\n",
    "featured_image_url = jpl_url + full_image\n",
    "#print (featured_image_url)"
   ]
  },
  {
   "cell_type": "code",
   "execution_count": 12,
   "metadata": {},
   "outputs": [
    {
     "name": "stdout",
     "output_type": "stream",
     "text": [
      "'The Eye of Saturn'\n"
     ]
    }
   ],
   "source": [
    "full_image_title = new_soup.find('h1', class_=\"article_title\")\n",
    "#pprint(full_image_title.text.strip('\\n\\t\": '))\n",
    "mars_dict[\"Featured_Image_Title\"] = full_image_title"
   ]
  },
  {
   "cell_type": "code",
   "execution_count": 15,
   "metadata": {},
   "outputs": [],
   "source": [
    "mars_dict[\"Featured_Image_Link\"] = featured_image_url"
   ]
  },
  {
   "cell_type": "code",
   "execution_count": 16,
   "metadata": {},
   "outputs": [],
   "source": [
    "marsweather = 'https://twitter.com/marswxreport'"
   ]
  },
  {
   "cell_type": "code",
   "execution_count": 17,
   "metadata": {},
   "outputs": [],
   "source": [
    "response2 = requests.get(marsweather)"
   ]
  },
  {
   "cell_type": "code",
   "execution_count": 18,
   "metadata": {},
   "outputs": [],
   "source": [
    "soup2 = bs(response2.text, 'html.parser')"
   ]
  },
  {
   "cell_type": "code",
   "execution_count": null,
   "metadata": {},
   "outputs": [],
   "source": [
    "#print (soup2.prettify())"
   ]
  },
  {
   "cell_type": "code",
   "execution_count": 19,
   "metadata": {},
   "outputs": [],
   "source": [
    "weather = soup2.find('div', class_=\"js-tweet-text-container\")\n",
    "mars_weather = weather.p.text\n",
    "#print (mars_weather)"
   ]
  },
  {
   "cell_type": "code",
   "execution_count": 20,
   "metadata": {},
   "outputs": [],
   "source": [
    "mars_dict[\"weather_info\"] = mars_weather"
   ]
  },
  {
   "cell_type": "code",
   "execution_count": 21,
   "metadata": {},
   "outputs": [],
   "source": [
    "pandaurl = 'https://space-facts.com/mars/'"
   ]
  },
  {
   "cell_type": "code",
   "execution_count": 22,
   "metadata": {},
   "outputs": [],
   "source": [
    "tables = pd.read_html(pandaurl)\n",
    "#tables"
   ]
  },
  {
   "cell_type": "code",
   "execution_count": 23,
   "metadata": {},
   "outputs": [],
   "source": [
    "df = tables[0]\n",
    "df.columns = ['Mars_Facts', 'Values']\n",
    "#df"
   ]
  },
  {
   "cell_type": "code",
   "execution_count": 24,
   "metadata": {},
   "outputs": [],
   "source": [
    "df.to_html(\"mars_facts.html\", index=False)"
   ]
  },
  {
   "cell_type": "code",
   "execution_count": 25,
   "metadata": {},
   "outputs": [],
   "source": [
    "df.set_index(\"Mars_Facts\")\n",
    "mars_facts_html = df.to_html(classes=\"facts table table-striped\")\n",
    "mars_dict[\"facts_table\"] = mars_facts_html"
   ]
  },
  {
   "cell_type": "code",
   "execution_count": 26,
   "metadata": {},
   "outputs": [
    {
     "name": "stdout",
     "output_type": "stream",
     "text": [
      "Cerberus Hemisphere is a great success!\n",
      "Schiaparelli Hemisphere is a great success!\n",
      "Syrtis Major Hemisphere is a great success!\n",
      "Valles Marineris Hemisphere is a great success!\n"
     ]
    }
   ],
   "source": [
    "hemishperes = ['Cerberus', 'Schiaparelli', 'Syrtis Major', 'Valles Marineris']\n",
    "\n",
    "hem_title = []\n",
    "img_urls = []\n",
    "\n",
    "for i in hemishperes:\n",
    "    my_url = 'https://astrogeology.usgs.gov/search/map/Mars/Viking/' + i\n",
    "    browser.visit(my_url)\n",
    "    time.sleep(2)\n",
    "    url_html = browser.html\n",
    "    page_soup = bs(url_html, \"html.parser\")\n",
    "    \n",
    "    hem_images = page_soup.find('div', class_='downloads').find('li').a['href']\n",
    "    img_urls.append(hem_images)\n",
    "    \n",
    "    hem_name = i + ' Hemisphere'\n",
    "    hem_title.append(hem_name)\n",
    "   \n",
    "    print (hem_name + ' is a great success!')\n"
   ]
  },
  {
   "cell_type": "code",
   "execution_count": 27,
   "metadata": {},
   "outputs": [],
   "source": [
    "d = dict(zip(hem_title, img_urls))\n",
    "hemisphere_image_urls = [{'image_url': v} for k, v in zip(hem_title, img_urls)]\n",
    "hemisphere_image_titles = [{'hem_title': b} for b, l in zip(hem_title, img_urls)]\n",
    "#print (hemisphere_image_urls)\n",
    "mars_dict[\"Hemisphere_image_data\"] = hemisphere_image_urls\n",
    "mars_dict[\"Hemisphere_title_data\"] = hemisphere_image_titles"
   ]
  },
  {
   "cell_type": "code",
   "execution_count": 28,
   "metadata": {},
   "outputs": [
    {
     "name": "stdout",
     "output_type": "stream",
     "text": [
      "{'Featured_Image_Link': 'https://www.jpl.nasa.gov/spaceimages/images/largesize/PIA18292_hires.jpg',\n",
      " 'Hemisphere_image_data': [{'image_url': 'http://astropedia.astrogeology.usgs.gov/download/Mars/Viking/cerberus_enhanced.tif/full.jpg'},\n",
      "                           {'image_url': 'http://astropedia.astrogeology.usgs.gov/download/Mars/Viking/schiaparelli_enhanced.tif/full.jpg'},\n",
      "                           {'image_url': 'http://astropedia.astrogeology.usgs.gov/download/Mars/Viking/syrtis_major_enhanced.tif/full.jpg'},\n",
      "                           {'image_url': 'http://astropedia.astrogeology.usgs.gov/download/Mars/Viking/valles_marineris_enhanced.tif/full.jpg'}],\n",
      " 'Hemisphere_title_data': [{'hem_title': 'Cerberus Hemisphere'},\n",
      "                           {'hem_title': 'Schiaparelli Hemisphere'},\n",
      "                           {'hem_title': 'Syrtis Major Hemisphere'},\n",
      "                           {'hem_title': 'Valles Marineris Hemisphere'}],\n",
      " 'News_Summary': '\\n'\n",
      "                 \"NASA's Opportunity Mars rover mission is complete after 15 \"\n",
      "                 \"years on Mars. Opportunity's record-breaking exploration \"\n",
      "                 'laid the groundwork for future missions to the Red Planet.\\n',\n",
      " 'News_title': \"\\nNASA's Opportunity Rover Mission on Mars Comes to End\\n\",\n",
      " 'facts_table': '<table border=\"1\" class=\"dataframe facts table '\n",
      "                'table-striped\">\\n'\n",
      "                '  <thead>\\n'\n",
      "                '    <tr style=\"text-align: right;\">\\n'\n",
      "                '      <th></th>\\n'\n",
      "                '      <th>Mars_Facts</th>\\n'\n",
      "                '      <th>Values</th>\\n'\n",
      "                '    </tr>\\n'\n",
      "                '  </thead>\\n'\n",
      "                '  <tbody>\\n'\n",
      "                '    <tr>\\n'\n",
      "                '      <th>0</th>\\n'\n",
      "                '      <td>Equatorial Diameter:</td>\\n'\n",
      "                '      <td>6,792 km</td>\\n'\n",
      "                '    </tr>\\n'\n",
      "                '    <tr>\\n'\n",
      "                '      <th>1</th>\\n'\n",
      "                '      <td>Polar Diameter:</td>\\n'\n",
      "                '      <td>6,752 km</td>\\n'\n",
      "                '    </tr>\\n'\n",
      "                '    <tr>\\n'\n",
      "                '      <th>2</th>\\n'\n",
      "                '      <td>Mass:</td>\\n'\n",
      "                '      <td>6.42 x 10^23 kg (10.7% Earth)</td>\\n'\n",
      "                '    </tr>\\n'\n",
      "                '    <tr>\\n'\n",
      "                '      <th>3</th>\\n'\n",
      "                '      <td>Moons:</td>\\n'\n",
      "                '      <td>2 (Phobos &amp; Deimos)</td>\\n'\n",
      "                '    </tr>\\n'\n",
      "                '    <tr>\\n'\n",
      "                '      <th>4</th>\\n'\n",
      "                '      <td>Orbit Distance:</td>\\n'\n",
      "                '      <td>227,943,824 km (1.52 AU)</td>\\n'\n",
      "                '    </tr>\\n'\n",
      "                '    <tr>\\n'\n",
      "                '      <th>5</th>\\n'\n",
      "                '      <td>Orbit Period:</td>\\n'\n",
      "                '      <td>687 days (1.9 years)</td>\\n'\n",
      "                '    </tr>\\n'\n",
      "                '    <tr>\\n'\n",
      "                '      <th>6</th>\\n'\n",
      "                '      <td>Surface Temperature:</td>\\n'\n",
      "                '      <td>-153 to 20 °C</td>\\n'\n",
      "                '    </tr>\\n'\n",
      "                '    <tr>\\n'\n",
      "                '      <th>7</th>\\n'\n",
      "                '      <td>First Record:</td>\\n'\n",
      "                '      <td>2nd millennium BC</td>\\n'\n",
      "                '    </tr>\\n'\n",
      "                '    <tr>\\n'\n",
      "                '      <th>8</th>\\n'\n",
      "                '      <td>Recorded By:</td>\\n'\n",
      "                '      <td>Egyptian astronomers</td>\\n'\n",
      "                '    </tr>\\n'\n",
      "                '  </tbody>\\n'\n",
      "                '</table>',\n",
      " 'weather_info': 'Curiosity is again operating normally following a boot '\n",
      "                 'problem first experienced last Friday. Look for more Gale '\n",
      "                 'Crater weather conditions soon.\\n'\n",
      "                 'https://www.jpl.nasa.gov/news/news.php?feature=7339\\xa0'\n",
      "                 '…pic.twitter.com/gFMfXyeWDa'}\n"
     ]
    }
   ],
   "source": [
    "pprint(mars_dict)"
   ]
  },
  {
   "cell_type": "code",
   "execution_count": null,
   "metadata": {},
   "outputs": [],
   "source": []
  }
 ],
 "metadata": {
  "kernelspec": {
   "display_name": "Python 3",
   "language": "python",
   "name": "python3"
  },
  "language_info": {
   "codemirror_mode": {
    "name": "ipython",
    "version": 3
   },
   "file_extension": ".py",
   "mimetype": "text/x-python",
   "name": "python",
   "nbconvert_exporter": "python",
   "pygments_lexer": "ipython3",
   "version": "3.7.0"
  }
 },
 "nbformat": 4,
 "nbformat_minor": 2
}
